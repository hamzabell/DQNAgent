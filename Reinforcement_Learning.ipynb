{
  "nbformat": 4,
  "nbformat_minor": 0,
  "metadata": {
    "colab": {
      "name": "Reinforcement Learning.ipynb",
      "provenance": []
    },
    "kernelspec": {
      "name": "python3",
      "display_name": "Python 3"
    }
  },
  "cells": [
    {
      "cell_type": "code",
      "metadata": {
        "id": "FswsG4DJqCFr",
        "colab_type": "code",
        "colab": {}
      },
      "source": [
        "import torch\n",
        "import torch.nn as nn\n",
        "import random\n",
        "from collections import deque\n",
        "import numpy as np\n",
        "import torch.optim as optim\n",
        "import gym"
      ],
      "execution_count": 0,
      "outputs": []
    },
    {
      "cell_type": "code",
      "metadata": {
        "id": "RbamD5cdqQQ0",
        "colab_type": "code",
        "colab": {}
      },
      "source": [
        "def cartpole_model (observation_space, action_space):\n",
        "  return nn.Sequential (\n",
        "      nn.Linear(observation_space, 24),\n",
        "      nn.ReLU(),\n",
        "      nn.Linear(24,24),\n",
        "      nn.ReLU(),\n",
        "      nn.Linear(24, action_space)\n",
        "  )\n"
      ],
      "execution_count": 0,
      "outputs": []
    },
    {
      "cell_type": "code",
      "metadata": {
        "id": "xHnVz1qUqoUN",
        "colab_type": "code",
        "colab": {}
      },
      "source": [
        "class DQN:\n",
        "  def __init__(self, observation_space, action_space):\n",
        "    self.exploration_rate = MAX_EXPLORE\n",
        "    self.action_space = action_space\n",
        "    self.observation_space = observation_space\n",
        "    self.memory = deque(maxlen=MEMORY_LEN)\n",
        "\n",
        "    #define target net and policy net\n",
        "    self.target_net = cartpole_model(self.observation_space, self.action_space)\n",
        "    self.policy_net = cartpole_model(self.observation_space, self.action_space)\n",
        "\n",
        "    #Copy weights\n",
        "    self.target_net.load_state_dict(self.policy_net.state_dict())\n",
        "    self.target_net.eval()\n",
        "\n",
        "    # Define Loss Function, Optimizer and Limit Flag\n",
        "    self.criterion = nn.MSELoss()\n",
        "    self.optimizer = optim.Adam(self.policy_net.parameters())\n",
        "\n",
        "    self.explore_limit = False\n",
        "  \n",
        "  # define Load Memory method\n",
        "  def load_memory(self, state, action, reward, next_state, terminal):\n",
        "    self.memory.append(( state, action, reward, next_state, terminal ))\n",
        "\n",
        "  def predict_action(self, state):\n",
        "    random_number = np.random.rand()\n",
        "    if random_number < self.exploration_rate:\n",
        "      return random.randrange(self.action_space)\n",
        "\n",
        "    q_values = self.target_net(state).detach().numpy()\n",
        "\n",
        "    return np.argmax(q_values[0])\n",
        "\n",
        "  def experience_replay(self):\n",
        "    if len(self.memory) < BATCH_SIZE:\n",
        "      return \n",
        "\n",
        "    batch = random.sample(self.memory, BATCH_SIZE)\n",
        "\n",
        "    #Update the q-values in each batch\n",
        "    for state, action, reward, next_state, terminal in batch:\n",
        "      q_update = reward\n",
        "      if not terminal:\n",
        "        q_update = reward + GAMMA  * self.target_net(next_state).max(axis=1)[0]\n",
        "        q_values = self.target_net(state)\n",
        "        q_values[0][action] = q_update\n",
        "\n",
        "\n",
        "        # Update Weights and loss\n",
        "\n",
        "        loss = self.criterion(self.policy_net(state), q_values)\n",
        "        self.optimizer.zero_grad()\n",
        "        loss.backward()\n",
        "        self.optimizer.step()\n",
        "\n",
        "        # Update the exploration rate\n",
        "        if not self.explore_limit: \n",
        "          self.exploration_rate *= EXPLORE_DECAY\n",
        "          if self.exploration_rate < MIN_EXPLORE:\n",
        "            self.exploration_rate = MIN_EXPLORE\n",
        "            self.explore_limit = True"
      ],
      "execution_count": 0,
      "outputs": []
    },
    {
      "cell_type": "code",
      "metadata": {
        "id": "cbqTiiFeto2t",
        "colab_type": "code",
        "colab": {}
      },
      "source": [
        "ENV_NAME = \"CartPole-v1\"\n",
        "BATCH_SIZE = 20\n",
        "GAMMA = 0.95\n",
        "LEARNING_RATE = 0.001\n",
        "MAX_EXPLORE = 1.0\n",
        "MIN_EXPLORE = 0.01\n",
        "EXPLORE_DECAY = 0.995\n",
        "MEMORY_LEN = 1_000_000\n",
        "UPDATE_FREQ = 10"
      ],
      "execution_count": 0,
      "outputs": []
    },
    {
      "cell_type": "code",
      "metadata": {
        "id": "Z-pEDQtUCFWG",
        "colab_type": "code",
        "colab": {}
      },
      "source": [
        "env = gym.make(ENV_NAME)\n",
        "observation_space = env.observation_space.shape[0]\n",
        "action_space = env.action_space.n\n",
        "dqn = DQN(observation_space, action_space)"
      ],
      "execution_count": 0,
      "outputs": []
    },
    {
      "cell_type": "code",
      "metadata": {
        "id": "I_bmpHgTCJ3h",
        "colab_type": "code",
        "outputId": "4f1adc79-1d88-4414-ec22-0fc156a2265c",
        "colab": {
          "base_uri": "https://localhost:8080/",
          "height": 1000
        }
      },
      "source": [
        "for i in range(100):\n",
        "  state = env.reset()\n",
        "  state = np.reshape(state, [1, observation_space])\n",
        "  state = torch.from_numpy(state).float()\n",
        "  score = 0\n",
        "  while True:\n",
        "    score += 1\n",
        "    action = dqn.predict_action(state)\n",
        "    next_state, reward, terminal, info = env.step(action)\n",
        "    next_state = torch.from_numpy(np.reshape(next_state, [1,observation_space])).float()\n",
        "    dqn.load_memory(state, action, reward, next_state,terminal)\n",
        "    state = next_state\n",
        "    if terminal:\n",
        "      print(f'| {i+1:02} |{dqn.exploration_rate:.4f} | {score:03} |')\n",
        "      break\n",
        "\n",
        "    dqn.experience_replay()\n",
        "\n",
        "  if i%UPDATE_FREQ == 0:\n",
        "    dqn.target_net.load_state_dict(dqn.policy_net.state_dict())"
      ],
      "execution_count": 0,
      "outputs": [
        {
          "output_type": "stream",
          "text": [
            "| 01 |1.0000 | 020 |\n",
            "| 02 |0.0100 | 169 |\n",
            "| 03 |0.0100 | 158 |\n",
            "| 04 |0.0100 | 159 |\n",
            "| 05 |0.0100 | 165 |\n",
            "| 06 |0.0100 | 155 |\n",
            "| 07 |0.0100 | 162 |\n",
            "| 08 |0.0100 | 162 |\n",
            "| 09 |0.0100 | 154 |\n",
            "| 10 |0.0100 | 169 |\n",
            "| 11 |0.0100 | 150 |\n",
            "| 12 |0.0100 | 153 |\n",
            "| 13 |0.0100 | 164 |\n",
            "| 14 |0.0100 | 175 |\n",
            "| 15 |0.0100 | 166 |\n",
            "| 16 |0.0100 | 152 |\n",
            "| 17 |0.0100 | 169 |\n",
            "| 18 |0.0100 | 160 |\n",
            "| 19 |0.0100 | 178 |\n",
            "| 20 |0.0100 | 155 |\n",
            "| 21 |0.0100 | 016 |\n",
            "| 22 |0.0100 | 157 |\n",
            "| 23 |0.0100 | 164 |\n",
            "| 24 |0.0100 | 154 |\n",
            "| 25 |0.0100 | 165 |\n",
            "| 26 |0.0100 | 162 |\n",
            "| 27 |0.0100 | 165 |\n",
            "| 28 |0.0100 | 171 |\n",
            "| 29 |0.0100 | 159 |\n",
            "| 30 |0.0100 | 175 |\n",
            "| 31 |0.0100 | 163 |\n",
            "| 32 |0.0100 | 169 |\n",
            "| 33 |0.0100 | 155 |\n",
            "| 34 |0.0100 | 176 |\n",
            "| 35 |0.0100 | 163 |\n",
            "| 36 |0.0100 | 180 |\n",
            "| 37 |0.0100 | 158 |\n",
            "| 38 |0.0100 | 166 |\n",
            "| 39 |0.0100 | 157 |\n",
            "| 40 |0.0100 | 177 |\n",
            "| 41 |0.0100 | 173 |\n",
            "| 42 |0.0100 | 164 |\n",
            "| 43 |0.0100 | 160 |\n",
            "| 44 |0.0100 | 159 |\n",
            "| 45 |0.0100 | 159 |\n",
            "| 46 |0.0100 | 168 |\n",
            "| 47 |0.0100 | 168 |\n",
            "| 48 |0.0100 | 158 |\n",
            "| 49 |0.0100 | 165 |\n",
            "| 50 |0.0100 | 161 |\n",
            "| 51 |0.0100 | 164 |\n",
            "| 52 |0.0100 | 156 |\n",
            "| 53 |0.0100 | 158 |\n",
            "| 54 |0.0100 | 173 |\n",
            "| 55 |0.0100 | 176 |\n",
            "| 56 |0.0100 | 182 |\n",
            "| 57 |0.0100 | 170 |\n",
            "| 58 |0.0100 | 155 |\n",
            "| 59 |0.0100 | 175 |\n",
            "| 60 |0.0100 | 171 |\n",
            "| 61 |0.0100 | 159 |\n",
            "| 62 |0.0100 | 169 |\n",
            "| 63 |0.0100 | 166 |\n",
            "| 64 |0.0100 | 164 |\n",
            "| 65 |0.0100 | 167 |\n",
            "| 66 |0.0100 | 162 |\n",
            "| 67 |0.0100 | 156 |\n",
            "| 68 |0.0100 | 157 |\n",
            "| 69 |0.0100 | 155 |\n",
            "| 70 |0.0100 | 162 |\n",
            "| 71 |0.0100 | 154 |\n",
            "| 72 |0.0100 | 164 |\n",
            "| 73 |0.0100 | 181 |\n",
            "| 74 |0.0100 | 172 |\n",
            "| 75 |0.0100 | 158 |\n",
            "| 76 |0.0100 | 156 |\n",
            "| 77 |0.0100 | 169 |\n",
            "| 78 |0.0100 | 160 |\n",
            "| 79 |0.0100 | 181 |\n",
            "| 80 |0.0100 | 175 |\n",
            "| 81 |0.0100 | 157 |\n",
            "| 82 |0.0100 | 156 |\n",
            "| 83 |0.0100 | 166 |\n",
            "| 84 |0.0100 | 163 |\n",
            "| 85 |0.0100 | 162 |\n",
            "| 86 |0.0100 | 157 |\n",
            "| 87 |0.0100 | 175 |\n",
            "| 88 |0.0100 | 185 |\n",
            "| 89 |0.0100 | 158 |\n",
            "| 90 |0.0100 | 170 |\n",
            "| 91 |0.0100 | 167 |\n",
            "| 92 |0.0100 | 155 |\n",
            "| 93 |0.0100 | 174 |\n",
            "| 94 |0.0100 | 156 |\n",
            "| 95 |0.0100 | 167 |\n",
            "| 96 |0.0100 | 157 |\n",
            "| 97 |0.0100 | 171 |\n",
            "| 98 |0.0100 | 164 |\n",
            "| 99 |0.0100 | 160 |\n",
            "| 100 |0.0100 | 157 |\n"
          ],
          "name": "stdout"
        }
      ]
    },
    {
      "cell_type": "code",
      "metadata": {
        "id": "k3_a3S_TC6g5",
        "colab_type": "code",
        "colab": {}
      },
      "source": [
        "def play_agent(dqn, env):\n",
        "  observation = env.reset()\n",
        "  total_reward=0\n",
        "  for _ in range(500):\n",
        "    env.render()\n",
        "    observation = torch.tensor(observation).type('torch.FloatTensor').view(1,-1)\n",
        "    q_values = dqn.target_net(observation).detach().numpy()\n",
        "    action = np.argmax(q_values[0])\n",
        "    new_observation, reward, done, _ = env.step(action)\n",
        "    total_reward += reward\n",
        "    observation = new_observation\n",
        "    if(done):\n",
        "      break\n",
        "\n",
        "  env.close()\n",
        "  print(\"Rewards: \",total_reward)"
      ],
      "execution_count": 0,
      "outputs": []
    },
    {
      "cell_type": "code",
      "metadata": {
        "id": "8LtytVQ8EpUy",
        "colab_type": "code",
        "outputId": "71b40424-9c85-436b-b2e8-4c0509521131",
        "colab": {
          "base_uri": "https://localhost:8080/",
          "height": 316
        }
      },
      "source": [
        "play_agent(dqn, env)"
      ],
      "execution_count": 0,
      "outputs": [
        {
          "output_type": "error",
          "ename": "NoSuchDisplayException",
          "evalue": "ignored",
          "traceback": [
            "\u001b[0;31m---------------------------------------------------------------------------\u001b[0m",
            "\u001b[0;31mNoSuchDisplayException\u001b[0m                    Traceback (most recent call last)",
            "\u001b[0;32m<ipython-input-11-9fd699daabf4>\u001b[0m in \u001b[0;36m<module>\u001b[0;34m()\u001b[0m\n\u001b[0;32m----> 1\u001b[0;31m \u001b[0mplay_agent\u001b[0m\u001b[0;34m(\u001b[0m\u001b[0mdqn\u001b[0m\u001b[0;34m,\u001b[0m \u001b[0menv\u001b[0m\u001b[0;34m)\u001b[0m\u001b[0;34m\u001b[0m\u001b[0;34m\u001b[0m\u001b[0m\n\u001b[0m",
            "\u001b[0;32m<ipython-input-10-23328073dd4b>\u001b[0m in \u001b[0;36mplay_agent\u001b[0;34m(dqn, env)\u001b[0m\n\u001b[1;32m      3\u001b[0m   \u001b[0mtotal_reward\u001b[0m\u001b[0;34m=\u001b[0m\u001b[0;36m0\u001b[0m\u001b[0;34m\u001b[0m\u001b[0;34m\u001b[0m\u001b[0m\n\u001b[1;32m      4\u001b[0m   \u001b[0;32mfor\u001b[0m \u001b[0m_\u001b[0m \u001b[0;32min\u001b[0m \u001b[0mrange\u001b[0m\u001b[0;34m(\u001b[0m\u001b[0;36m500\u001b[0m\u001b[0;34m)\u001b[0m\u001b[0;34m:\u001b[0m\u001b[0;34m\u001b[0m\u001b[0;34m\u001b[0m\u001b[0m\n\u001b[0;32m----> 5\u001b[0;31m     \u001b[0menv\u001b[0m\u001b[0;34m.\u001b[0m\u001b[0mrender\u001b[0m\u001b[0;34m(\u001b[0m\u001b[0;34m)\u001b[0m\u001b[0;34m\u001b[0m\u001b[0;34m\u001b[0m\u001b[0m\n\u001b[0m\u001b[1;32m      6\u001b[0m     \u001b[0mobservation\u001b[0m \u001b[0;34m=\u001b[0m \u001b[0mtorch\u001b[0m\u001b[0;34m.\u001b[0m\u001b[0mtensor\u001b[0m\u001b[0;34m(\u001b[0m\u001b[0mobservation\u001b[0m\u001b[0;34m)\u001b[0m\u001b[0;34m.\u001b[0m\u001b[0mtype\u001b[0m\u001b[0;34m(\u001b[0m\u001b[0;34m'torch.FloatTensor'\u001b[0m\u001b[0;34m)\u001b[0m\u001b[0;34m.\u001b[0m\u001b[0mview\u001b[0m\u001b[0;34m(\u001b[0m\u001b[0;36m1\u001b[0m\u001b[0;34m,\u001b[0m\u001b[0;34m-\u001b[0m\u001b[0;36m1\u001b[0m\u001b[0;34m)\u001b[0m\u001b[0;34m\u001b[0m\u001b[0;34m\u001b[0m\u001b[0m\n\u001b[1;32m      7\u001b[0m     \u001b[0mq_values\u001b[0m \u001b[0;34m=\u001b[0m \u001b[0mdqn\u001b[0m\u001b[0;34m.\u001b[0m\u001b[0mtarget_net\u001b[0m\u001b[0;34m(\u001b[0m\u001b[0mobservation\u001b[0m\u001b[0;34m)\u001b[0m\u001b[0;34m.\u001b[0m\u001b[0mdetach\u001b[0m\u001b[0;34m(\u001b[0m\u001b[0;34m)\u001b[0m\u001b[0;34m.\u001b[0m\u001b[0mnumpy\u001b[0m\u001b[0;34m(\u001b[0m\u001b[0;34m)\u001b[0m\u001b[0;34m\u001b[0m\u001b[0;34m\u001b[0m\u001b[0m\n",
            "\u001b[0;32m/usr/local/lib/python3.6/dist-packages/gym/core.py\u001b[0m in \u001b[0;36mrender\u001b[0;34m(self, mode, **kwargs)\u001b[0m\n\u001b[1;32m    233\u001b[0m \u001b[0;34m\u001b[0m\u001b[0m\n\u001b[1;32m    234\u001b[0m     \u001b[0;32mdef\u001b[0m \u001b[0mrender\u001b[0m\u001b[0;34m(\u001b[0m\u001b[0mself\u001b[0m\u001b[0;34m,\u001b[0m \u001b[0mmode\u001b[0m\u001b[0;34m=\u001b[0m\u001b[0;34m'human'\u001b[0m\u001b[0;34m,\u001b[0m \u001b[0;34m**\u001b[0m\u001b[0mkwargs\u001b[0m\u001b[0;34m)\u001b[0m\u001b[0;34m:\u001b[0m\u001b[0;34m\u001b[0m\u001b[0;34m\u001b[0m\u001b[0m\n\u001b[0;32m--> 235\u001b[0;31m         \u001b[0;32mreturn\u001b[0m \u001b[0mself\u001b[0m\u001b[0;34m.\u001b[0m\u001b[0menv\u001b[0m\u001b[0;34m.\u001b[0m\u001b[0mrender\u001b[0m\u001b[0;34m(\u001b[0m\u001b[0mmode\u001b[0m\u001b[0;34m,\u001b[0m \u001b[0;34m**\u001b[0m\u001b[0mkwargs\u001b[0m\u001b[0;34m)\u001b[0m\u001b[0;34m\u001b[0m\u001b[0;34m\u001b[0m\u001b[0m\n\u001b[0m\u001b[1;32m    236\u001b[0m \u001b[0;34m\u001b[0m\u001b[0m\n\u001b[1;32m    237\u001b[0m     \u001b[0;32mdef\u001b[0m \u001b[0mclose\u001b[0m\u001b[0;34m(\u001b[0m\u001b[0mself\u001b[0m\u001b[0;34m)\u001b[0m\u001b[0;34m:\u001b[0m\u001b[0;34m\u001b[0m\u001b[0;34m\u001b[0m\u001b[0m\n",
            "\u001b[0;32m/usr/local/lib/python3.6/dist-packages/gym/envs/classic_control/cartpole.py\u001b[0m in \u001b[0;36mrender\u001b[0;34m(self, mode)\u001b[0m\n\u001b[1;32m    148\u001b[0m \u001b[0;34m\u001b[0m\u001b[0m\n\u001b[1;32m    149\u001b[0m         \u001b[0;32mif\u001b[0m \u001b[0mself\u001b[0m\u001b[0;34m.\u001b[0m\u001b[0mviewer\u001b[0m \u001b[0;32mis\u001b[0m \u001b[0;32mNone\u001b[0m\u001b[0;34m:\u001b[0m\u001b[0;34m\u001b[0m\u001b[0;34m\u001b[0m\u001b[0m\n\u001b[0;32m--> 150\u001b[0;31m             \u001b[0;32mfrom\u001b[0m \u001b[0mgym\u001b[0m\u001b[0;34m.\u001b[0m\u001b[0menvs\u001b[0m\u001b[0;34m.\u001b[0m\u001b[0mclassic_control\u001b[0m \u001b[0;32mimport\u001b[0m \u001b[0mrendering\u001b[0m\u001b[0;34m\u001b[0m\u001b[0;34m\u001b[0m\u001b[0m\n\u001b[0m\u001b[1;32m    151\u001b[0m             \u001b[0mself\u001b[0m\u001b[0;34m.\u001b[0m\u001b[0mviewer\u001b[0m \u001b[0;34m=\u001b[0m \u001b[0mrendering\u001b[0m\u001b[0;34m.\u001b[0m\u001b[0mViewer\u001b[0m\u001b[0;34m(\u001b[0m\u001b[0mscreen_width\u001b[0m\u001b[0;34m,\u001b[0m \u001b[0mscreen_height\u001b[0m\u001b[0;34m)\u001b[0m\u001b[0;34m\u001b[0m\u001b[0;34m\u001b[0m\u001b[0m\n\u001b[1;32m    152\u001b[0m             \u001b[0ml\u001b[0m\u001b[0;34m,\u001b[0m\u001b[0mr\u001b[0m\u001b[0;34m,\u001b[0m\u001b[0mt\u001b[0m\u001b[0;34m,\u001b[0m\u001b[0mb\u001b[0m \u001b[0;34m=\u001b[0m \u001b[0;34m-\u001b[0m\u001b[0mcartwidth\u001b[0m\u001b[0;34m/\u001b[0m\u001b[0;36m2\u001b[0m\u001b[0;34m,\u001b[0m \u001b[0mcartwidth\u001b[0m\u001b[0;34m/\u001b[0m\u001b[0;36m2\u001b[0m\u001b[0;34m,\u001b[0m \u001b[0mcartheight\u001b[0m\u001b[0;34m/\u001b[0m\u001b[0;36m2\u001b[0m\u001b[0;34m,\u001b[0m \u001b[0;34m-\u001b[0m\u001b[0mcartheight\u001b[0m\u001b[0;34m/\u001b[0m\u001b[0;36m2\u001b[0m\u001b[0;34m\u001b[0m\u001b[0;34m\u001b[0m\u001b[0m\n",
            "\u001b[0;32m/usr/local/lib/python3.6/dist-packages/gym/envs/classic_control/rendering.py\u001b[0m in \u001b[0;36m<module>\u001b[0;34m()\u001b[0m\n\u001b[1;32m     25\u001b[0m \u001b[0;34m\u001b[0m\u001b[0m\n\u001b[1;32m     26\u001b[0m \u001b[0;32mtry\u001b[0m\u001b[0;34m:\u001b[0m\u001b[0;34m\u001b[0m\u001b[0;34m\u001b[0m\u001b[0m\n\u001b[0;32m---> 27\u001b[0;31m     \u001b[0;32mfrom\u001b[0m \u001b[0mpyglet\u001b[0m\u001b[0;34m.\u001b[0m\u001b[0mgl\u001b[0m \u001b[0;32mimport\u001b[0m \u001b[0;34m*\u001b[0m\u001b[0;34m\u001b[0m\u001b[0;34m\u001b[0m\u001b[0m\n\u001b[0m\u001b[1;32m     28\u001b[0m \u001b[0;32mexcept\u001b[0m \u001b[0mImportError\u001b[0m \u001b[0;32mas\u001b[0m \u001b[0me\u001b[0m\u001b[0;34m:\u001b[0m\u001b[0;34m\u001b[0m\u001b[0;34m\u001b[0m\u001b[0m\n\u001b[1;32m     29\u001b[0m     raise ImportError('''\n",
            "\u001b[0;32m/usr/local/lib/python3.6/dist-packages/pyglet/gl/__init__.py\u001b[0m in \u001b[0;36m<module>\u001b[0;34m()\u001b[0m\n\u001b[1;32m    242\u001b[0m     \u001b[0;31m# trickery is for circular import\u001b[0m\u001b[0;34m\u001b[0m\u001b[0;34m\u001b[0m\u001b[0;34m\u001b[0m\u001b[0m\n\u001b[1;32m    243\u001b[0m     \u001b[0m_pyglet\u001b[0m\u001b[0;34m.\u001b[0m\u001b[0mgl\u001b[0m \u001b[0;34m=\u001b[0m \u001b[0m_sys\u001b[0m\u001b[0;34m.\u001b[0m\u001b[0mmodules\u001b[0m\u001b[0;34m[\u001b[0m\u001b[0m__name__\u001b[0m\u001b[0;34m]\u001b[0m\u001b[0;34m\u001b[0m\u001b[0;34m\u001b[0m\u001b[0m\n\u001b[0;32m--> 244\u001b[0;31m     \u001b[0;32mimport\u001b[0m \u001b[0mpyglet\u001b[0m\u001b[0;34m.\u001b[0m\u001b[0mwindow\u001b[0m\u001b[0;34m\u001b[0m\u001b[0;34m\u001b[0m\u001b[0m\n\u001b[0m",
            "\u001b[0;32m/usr/local/lib/python3.6/dist-packages/pyglet/window/__init__.py\u001b[0m in \u001b[0;36m<module>\u001b[0;34m()\u001b[0m\n\u001b[1;32m   1878\u001b[0m \u001b[0;32mif\u001b[0m \u001b[0;32mnot\u001b[0m \u001b[0m_is_pyglet_doc_run\u001b[0m\u001b[0;34m:\u001b[0m\u001b[0;34m\u001b[0m\u001b[0;34m\u001b[0m\u001b[0m\n\u001b[1;32m   1879\u001b[0m     \u001b[0mpyglet\u001b[0m\u001b[0;34m.\u001b[0m\u001b[0mwindow\u001b[0m \u001b[0;34m=\u001b[0m \u001b[0msys\u001b[0m\u001b[0;34m.\u001b[0m\u001b[0mmodules\u001b[0m\u001b[0;34m[\u001b[0m\u001b[0m__name__\u001b[0m\u001b[0;34m]\u001b[0m\u001b[0;34m\u001b[0m\u001b[0;34m\u001b[0m\u001b[0m\n\u001b[0;32m-> 1880\u001b[0;31m     \u001b[0mgl\u001b[0m\u001b[0;34m.\u001b[0m\u001b[0m_create_shadow_window\u001b[0m\u001b[0;34m(\u001b[0m\u001b[0;34m)\u001b[0m\u001b[0;34m\u001b[0m\u001b[0;34m\u001b[0m\u001b[0m\n\u001b[0m",
            "\u001b[0;32m/usr/local/lib/python3.6/dist-packages/pyglet/gl/__init__.py\u001b[0m in \u001b[0;36m_create_shadow_window\u001b[0;34m()\u001b[0m\n\u001b[1;32m    218\u001b[0m \u001b[0;34m\u001b[0m\u001b[0m\n\u001b[1;32m    219\u001b[0m     \u001b[0;32mfrom\u001b[0m \u001b[0mpyglet\u001b[0m\u001b[0;34m.\u001b[0m\u001b[0mwindow\u001b[0m \u001b[0;32mimport\u001b[0m \u001b[0mWindow\u001b[0m\u001b[0;34m\u001b[0m\u001b[0;34m\u001b[0m\u001b[0m\n\u001b[0;32m--> 220\u001b[0;31m     \u001b[0m_shadow_window\u001b[0m \u001b[0;34m=\u001b[0m \u001b[0mWindow\u001b[0m\u001b[0;34m(\u001b[0m\u001b[0mwidth\u001b[0m\u001b[0;34m=\u001b[0m\u001b[0;36m1\u001b[0m\u001b[0;34m,\u001b[0m \u001b[0mheight\u001b[0m\u001b[0;34m=\u001b[0m\u001b[0;36m1\u001b[0m\u001b[0;34m,\u001b[0m \u001b[0mvisible\u001b[0m\u001b[0;34m=\u001b[0m\u001b[0;32mFalse\u001b[0m\u001b[0;34m)\u001b[0m\u001b[0;34m\u001b[0m\u001b[0;34m\u001b[0m\u001b[0m\n\u001b[0m\u001b[1;32m    221\u001b[0m     \u001b[0m_shadow_window\u001b[0m\u001b[0;34m.\u001b[0m\u001b[0mswitch_to\u001b[0m\u001b[0;34m(\u001b[0m\u001b[0;34m)\u001b[0m\u001b[0;34m\u001b[0m\u001b[0;34m\u001b[0m\u001b[0m\n\u001b[1;32m    222\u001b[0m \u001b[0;34m\u001b[0m\u001b[0m\n",
            "\u001b[0;32m/usr/local/lib/python3.6/dist-packages/pyglet/window/xlib/__init__.py\u001b[0m in \u001b[0;36m__init__\u001b[0;34m(self, *args, **kwargs)\u001b[0m\n\u001b[1;32m    163\u001b[0m                     \u001b[0mself\u001b[0m\u001b[0;34m.\u001b[0m\u001b[0m_event_handlers\u001b[0m\u001b[0;34m[\u001b[0m\u001b[0mmessage\u001b[0m\u001b[0;34m]\u001b[0m \u001b[0;34m=\u001b[0m \u001b[0mfunc\u001b[0m\u001b[0;34m\u001b[0m\u001b[0;34m\u001b[0m\u001b[0m\n\u001b[1;32m    164\u001b[0m \u001b[0;34m\u001b[0m\u001b[0m\n\u001b[0;32m--> 165\u001b[0;31m         \u001b[0msuper\u001b[0m\u001b[0;34m(\u001b[0m\u001b[0mXlibWindow\u001b[0m\u001b[0;34m,\u001b[0m \u001b[0mself\u001b[0m\u001b[0;34m)\u001b[0m\u001b[0;34m.\u001b[0m\u001b[0m__init__\u001b[0m\u001b[0;34m(\u001b[0m\u001b[0;34m*\u001b[0m\u001b[0margs\u001b[0m\u001b[0;34m,\u001b[0m \u001b[0;34m**\u001b[0m\u001b[0mkwargs\u001b[0m\u001b[0;34m)\u001b[0m\u001b[0;34m\u001b[0m\u001b[0;34m\u001b[0m\u001b[0m\n\u001b[0m\u001b[1;32m    166\u001b[0m \u001b[0;34m\u001b[0m\u001b[0m\n\u001b[1;32m    167\u001b[0m         \u001b[0;32mglobal\u001b[0m \u001b[0m_can_detect_autorepeat\u001b[0m\u001b[0;34m\u001b[0m\u001b[0;34m\u001b[0m\u001b[0m\n",
            "\u001b[0;32m/usr/local/lib/python3.6/dist-packages/pyglet/window/__init__.py\u001b[0m in \u001b[0;36m__init__\u001b[0;34m(self, width, height, caption, resizable, style, fullscreen, visible, vsync, display, screen, config, context, mode)\u001b[0m\n\u001b[1;32m    568\u001b[0m \u001b[0;34m\u001b[0m\u001b[0m\n\u001b[1;32m    569\u001b[0m         \u001b[0;32mif\u001b[0m \u001b[0;32mnot\u001b[0m \u001b[0mdisplay\u001b[0m\u001b[0;34m:\u001b[0m\u001b[0;34m\u001b[0m\u001b[0;34m\u001b[0m\u001b[0m\n\u001b[0;32m--> 570\u001b[0;31m             \u001b[0mdisplay\u001b[0m \u001b[0;34m=\u001b[0m \u001b[0mpyglet\u001b[0m\u001b[0;34m.\u001b[0m\u001b[0mcanvas\u001b[0m\u001b[0;34m.\u001b[0m\u001b[0mget_display\u001b[0m\u001b[0;34m(\u001b[0m\u001b[0;34m)\u001b[0m\u001b[0;34m\u001b[0m\u001b[0;34m\u001b[0m\u001b[0m\n\u001b[0m\u001b[1;32m    571\u001b[0m \u001b[0;34m\u001b[0m\u001b[0m\n\u001b[1;32m    572\u001b[0m         \u001b[0;32mif\u001b[0m \u001b[0;32mnot\u001b[0m \u001b[0mscreen\u001b[0m\u001b[0;34m:\u001b[0m\u001b[0;34m\u001b[0m\u001b[0;34m\u001b[0m\u001b[0m\n",
            "\u001b[0;32m/usr/local/lib/python3.6/dist-packages/pyglet/canvas/__init__.py\u001b[0m in \u001b[0;36mget_display\u001b[0;34m()\u001b[0m\n\u001b[1;32m     92\u001b[0m \u001b[0;34m\u001b[0m\u001b[0m\n\u001b[1;32m     93\u001b[0m     \u001b[0;31m# Otherwise, create a new display and return it.\u001b[0m\u001b[0;34m\u001b[0m\u001b[0;34m\u001b[0m\u001b[0;34m\u001b[0m\u001b[0m\n\u001b[0;32m---> 94\u001b[0;31m     \u001b[0;32mreturn\u001b[0m \u001b[0mDisplay\u001b[0m\u001b[0;34m(\u001b[0m\u001b[0;34m)\u001b[0m\u001b[0;34m\u001b[0m\u001b[0;34m\u001b[0m\u001b[0m\n\u001b[0m\u001b[1;32m     95\u001b[0m \u001b[0;34m\u001b[0m\u001b[0m\n\u001b[1;32m     96\u001b[0m \u001b[0;34m\u001b[0m\u001b[0m\n",
            "\u001b[0;32m/usr/local/lib/python3.6/dist-packages/pyglet/canvas/xlib.py\u001b[0m in \u001b[0;36m__init__\u001b[0;34m(self, name, x_screen)\u001b[0m\n\u001b[1;32m    121\u001b[0m         \u001b[0mself\u001b[0m\u001b[0;34m.\u001b[0m\u001b[0m_display\u001b[0m \u001b[0;34m=\u001b[0m \u001b[0mxlib\u001b[0m\u001b[0;34m.\u001b[0m\u001b[0mXOpenDisplay\u001b[0m\u001b[0;34m(\u001b[0m\u001b[0mname\u001b[0m\u001b[0;34m)\u001b[0m\u001b[0;34m\u001b[0m\u001b[0;34m\u001b[0m\u001b[0m\n\u001b[1;32m    122\u001b[0m         \u001b[0;32mif\u001b[0m \u001b[0;32mnot\u001b[0m \u001b[0mself\u001b[0m\u001b[0;34m.\u001b[0m\u001b[0m_display\u001b[0m\u001b[0;34m:\u001b[0m\u001b[0;34m\u001b[0m\u001b[0;34m\u001b[0m\u001b[0m\n\u001b[0;32m--> 123\u001b[0;31m             \u001b[0;32mraise\u001b[0m \u001b[0mNoSuchDisplayException\u001b[0m\u001b[0;34m(\u001b[0m\u001b[0;34m'Cannot connect to \"%s\"'\u001b[0m \u001b[0;34m%\u001b[0m \u001b[0mname\u001b[0m\u001b[0;34m)\u001b[0m\u001b[0;34m\u001b[0m\u001b[0;34m\u001b[0m\u001b[0m\n\u001b[0m\u001b[1;32m    124\u001b[0m \u001b[0;34m\u001b[0m\u001b[0m\n\u001b[1;32m    125\u001b[0m         \u001b[0mscreen_count\u001b[0m \u001b[0;34m=\u001b[0m \u001b[0mxlib\u001b[0m\u001b[0;34m.\u001b[0m\u001b[0mXScreenCount\u001b[0m\u001b[0;34m(\u001b[0m\u001b[0mself\u001b[0m\u001b[0;34m.\u001b[0m\u001b[0m_display\u001b[0m\u001b[0;34m)\u001b[0m\u001b[0;34m\u001b[0m\u001b[0;34m\u001b[0m\u001b[0m\n",
            "\u001b[0;31mNoSuchDisplayException\u001b[0m: Cannot connect to \"None\""
          ]
        }
      ]
    },
    {
      "cell_type": "code",
      "metadata": {
        "id": "FQygTbizEvLR",
        "colab_type": "code",
        "colab": {}
      },
      "source": [
        "import random\n"
      ],
      "execution_count": 0,
      "outputs": []
    },
    {
      "cell_type": "code",
      "metadata": {
        "id": "0Yp5aOV9Wayu",
        "colab_type": "code",
        "outputId": "c736cdb6-f38b-4fb2-e336-1f25bea35711",
        "colab": {
          "base_uri": "https://localhost:8080/",
          "height": 34
        }
      },
      "source": [
        "random.random()"
      ],
      "execution_count": 0,
      "outputs": [
        {
          "output_type": "execute_result",
          "data": {
            "text/plain": [
              "0.28017089325146627"
            ]
          },
          "metadata": {
            "tags": []
          },
          "execution_count": 13
        }
      ]
    },
    {
      "cell_type": "code",
      "metadata": {
        "id": "N6SIjuzIWcob",
        "colab_type": "code",
        "colab": {}
      },
      "source": [
        ""
      ],
      "execution_count": 0,
      "outputs": []
    }
  ]
}